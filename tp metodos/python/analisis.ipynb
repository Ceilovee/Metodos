{
 "cells": [
  {
   "cell_type": "code",
   "execution_count": 1,
   "metadata": {},
   "outputs": [],
   "source": [
    "import numpy as np\n",
    "import pandas as pd\n",
    "import seaborn as sns\n",
    "import matplotlib.pyplot as plt"
   ]
  },
  {
   "cell_type": "markdown",
   "metadata": {},
   "source": [
    "# Experimentos\n",
    "Leemos el dataframe con todos los resultados."
   ]
  },
  {
   "cell_type": "code",
   "execution_count": 2,
   "metadata": {},
   "outputs": [
    {
     "data": {
      "text/html": [
       "<div>\n",
       "<style scoped>\n",
       "    .dataframe tbody tr th:only-of-type {\n",
       "        vertical-align: middle;\n",
       "    }\n",
       "\n",
       "    .dataframe tbody tr th {\n",
       "        vertical-align: top;\n",
       "    }\n",
       "\n",
       "    .dataframe thead th {\n",
       "        text-align: right;\n",
       "    }\n",
       "</style>\n",
       "<table border=\"1\" class=\"dataframe\">\n",
       "  <thead>\n",
       "    <tr style=\"text-align: right;\">\n",
       "      <th></th>\n",
       "      <th>dataset</th>\n",
       "      <th>metodo</th>\n",
       "      <th>n</th>\n",
       "      <th>m</th>\n",
       "      <th>nist</th>\n",
       "      <th>tiempo</th>\n",
       "    </tr>\n",
       "  </thead>\n",
       "  <tbody>\n",
       "    <tr>\n",
       "      <th>0</th>\n",
       "      <td>angulos_variables</td>\n",
       "      <td>LU</td>\n",
       "      <td>6</td>\n",
       "      <td>10</td>\n",
       "      <td>1</td>\n",
       "      <td>0.003921</td>\n",
       "    </tr>\n",
       "    <tr>\n",
       "      <th>1</th>\n",
       "      <td>angulos_variables</td>\n",
       "      <td>LU</td>\n",
       "      <td>8</td>\n",
       "      <td>10</td>\n",
       "      <td>1</td>\n",
       "      <td>0.009416</td>\n",
       "    </tr>\n",
       "    <tr>\n",
       "      <th>2</th>\n",
       "      <td>angulos_variables</td>\n",
       "      <td>LU</td>\n",
       "      <td>10</td>\n",
       "      <td>10</td>\n",
       "      <td>1</td>\n",
       "      <td>0.012839</td>\n",
       "    </tr>\n",
       "    <tr>\n",
       "      <th>3</th>\n",
       "      <td>angulos_variables</td>\n",
       "      <td>LU</td>\n",
       "      <td>12</td>\n",
       "      <td>10</td>\n",
       "      <td>1</td>\n",
       "      <td>0.020127</td>\n",
       "    </tr>\n",
       "    <tr>\n",
       "      <th>4</th>\n",
       "      <td>angulos_variables</td>\n",
       "      <td>LU</td>\n",
       "      <td>14</td>\n",
       "      <td>10</td>\n",
       "      <td>1</td>\n",
       "      <td>0.042560</td>\n",
       "    </tr>\n",
       "    <tr>\n",
       "      <th>...</th>\n",
       "      <td>...</td>\n",
       "      <td>...</td>\n",
       "      <td>...</td>\n",
       "      <td>...</td>\n",
       "      <td>...</td>\n",
       "      <td>...</td>\n",
       "    </tr>\n",
       "    <tr>\n",
       "      <th>201</th>\n",
       "      <td>gauss-lu</td>\n",
       "      <td>GAUSS</td>\n",
       "      <td>54</td>\n",
       "      <td>54</td>\n",
       "      <td>1</td>\n",
       "      <td>91.205400</td>\n",
       "    </tr>\n",
       "    <tr>\n",
       "      <th>202</th>\n",
       "      <td>gauss-lu</td>\n",
       "      <td>LU</td>\n",
       "      <td>56</td>\n",
       "      <td>56</td>\n",
       "      <td>1</td>\n",
       "      <td>113.170000</td>\n",
       "    </tr>\n",
       "    <tr>\n",
       "      <th>203</th>\n",
       "      <td>gauss-lu</td>\n",
       "      <td>GAUSS</td>\n",
       "      <td>56</td>\n",
       "      <td>56</td>\n",
       "      <td>1</td>\n",
       "      <td>111.577000</td>\n",
       "    </tr>\n",
       "    <tr>\n",
       "      <th>204</th>\n",
       "      <td>gauss-lu</td>\n",
       "      <td>LU</td>\n",
       "      <td>58</td>\n",
       "      <td>58</td>\n",
       "      <td>1</td>\n",
       "      <td>137.524000</td>\n",
       "    </tr>\n",
       "    <tr>\n",
       "      <th>205</th>\n",
       "      <td>gauss-lu</td>\n",
       "      <td>GAUSS</td>\n",
       "      <td>58</td>\n",
       "      <td>58</td>\n",
       "      <td>1</td>\n",
       "      <td>141.918000</td>\n",
       "    </tr>\n",
       "  </tbody>\n",
       "</table>\n",
       "<p>206 rows × 6 columns</p>\n",
       "</div>"
      ],
      "text/plain": [
       "               dataset metodo   n   m  nist      tiempo\n",
       "0    angulos_variables     LU   6  10     1    0.003921\n",
       "1    angulos_variables     LU   8  10     1    0.009416\n",
       "2    angulos_variables     LU  10  10     1    0.012839\n",
       "3    angulos_variables     LU  12  10     1    0.020127\n",
       "4    angulos_variables     LU  14  10     1    0.042560\n",
       "..                 ...    ...  ..  ..   ...         ...\n",
       "201           gauss-lu  GAUSS  54  54     1   91.205400\n",
       "202           gauss-lu     LU  56  56     1  113.170000\n",
       "203           gauss-lu  GAUSS  56  56     1  111.577000\n",
       "204           gauss-lu     LU  58  58     1  137.524000\n",
       "205           gauss-lu  GAUSS  58  58     1  141.918000\n",
       "\n",
       "[206 rows x 6 columns]"
      ]
     },
     "execution_count": 2,
     "metadata": {},
     "output_type": "execute_result"
    }
   ],
   "source": [
    "df_resultados = pd.read_csv(\"resultados_instancias/resultado.csv\");\n",
    "df_resultados"
   ]
  },
  {
   "cell_type": "markdown",
   "metadata": {},
   "source": [
    "## Experimento 1: Análisis de GAUSS vs LU con muchos nist"
   ]
  },
  {
   "cell_type": "code",
   "execution_count": 3,
   "metadata": {},
   "outputs": [
    {
     "data": {
      "image/png": "[encoded data removed]",
      "text/plain": [
       "<Figure size 432x288 with 1 Axes>"
      ]
     },
     "metadata": {
      "needs_background": "light"
     },
     "output_type": "display_data"
    }
   ],
   "source": [
    "df_muchos_nist = df_resultados[((df_resultados[\"metodo\"]==\"GAUSS\") | (df_resultados[\"metodo\"]==\"LU\")) & (df_resultados[\"dataset\"] == \"muchos_nist\")].copy();\n",
    "fig = sns.scatterplot(data=df_muchos_nist, x='nist', y='tiempo', hue='metodo');\n",
    "fig.set(xlabel='nist', ylabel='tiempo (s)');\n",
    "plt.savefig(\"graficos/muchos_nist.svg\");"
   ]
  },
  {
   "cell_type": "markdown",
   "metadata": {},
   "source": [
    "## Experimento 2: Análisis de GAUSS vs LU con incrementando n"
   ]
  },
  {
   "cell_type": "code",
   "execution_count": 4,
   "metadata": {},
   "outputs": [
    {
     "data": {
      "image/png": "[encoded data removed]",
      "text/plain": [
       "<Figure size 432x288 with 1 Axes>"
      ]
     },
     "metadata": {
      "needs_background": "light"
     },
     "output_type": "display_data"
    }
   ],
   "source": [
    "df_gauss_lu = df_resultados[((df_resultados[\"metodo\"]==\"GAUSS\") | (df_resultados[\"metodo\"]==\"LU\")) & (df_resultados[\"dataset\"] == \"gauss-lu\")].copy();\n",
    "df_gauss_lu[\"tiempo_esperado\"] = (df_gauss_lu[\"n\"] ** 6) * 0.0000000035;\n",
    "fig = sns.scatterplot(data=df_gauss_lu, x='n', y='tiempo', hue='metodo');\n",
    "fig = sns.lineplot(data=df_gauss_lu, x='n', y='tiempo_esperado', color=\"green\",label='O( (n*n)^3 )');\n",
    "fig.set(xlabel='n', ylabel='tiempo (s)');\n",
    "plt.savefig(\"graficos/gauss-lu.svg\");"
   ]
  }
 ],
 "metadata": {
  "kernelspec": {
   "display_name": "Python 3 (ipykernel)",
   "language": "python",
   "name": "python3"
  },
  "language_info": {
   "codemirror_mode": {
    "name": "ipython",
    "version": 3
   },
   "file_extension": ".py",
   "mimetype": "text/x-python",
   "name": "python",
   "nbconvert_exporter": "python",
   "pygments_lexer": "ipython3",
   "version": "3.8.10"
  }
 },
 "nbformat": 4,
 "nbformat_minor": 4
}
