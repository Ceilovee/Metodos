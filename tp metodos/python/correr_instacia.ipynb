{
 "cells": [
  {
   "cell_type": "code",
   "execution_count": 1,
   "metadata": {},
   "outputs": [],
   "source": [
    "import numpy as np\n",
    "import pandas as pd\n",
    "import seaborn as sns\n",
    "import subprocess\n",
    "import matplotlib.pyplot as plt\n",
    "from IPython.display import display, clear_output\n",
    "from tqdm.notebook import tnrange,tqdm"
   ]
  },
  {
   "cell_type": "code",
   "execution_count": 2,
   "metadata": {},
   "outputs": [],
   "source": [
    "def leer_instancia(path_instancia):\n",
    "    with open(path_instancia, \"r\") as f:\n",
    "        return f.read()\n",
    "\n",
    "df_angulos_variables = pd.read_csv(\"instancias/angulos_variables/indice.csv\")\n",
    "df_radios_variables = pd.read_csv(\"instancias/radios_variables/indice.csv\")\n",
    "df_gauss_lu = pd.read_csv(\"instancias/gauss-lu/indice.csv\")\n",
    "df_muchos_nist = pd.read_csv(\"instancias/muchos_nist/indice.csv\")\n"
   ]
  },
  {
   "cell_type": "code",
   "execution_count": 3,
   "metadata": {},
   "outputs": [],
   "source": [
    "def correr_experimento(metodo, archivo_instancia, out):\n",
    "    # Leer archivo de la instancia.\n",
    "    instancia = leer_instancia(archivo_instancia)\n",
    "    # Crear proceso para ejecutar el codigo.\n",
    "    process = subprocess.Popen([\"../main\", metodo, out+'.txt'], stderr=subprocess.PIPE, stdout=subprocess.PIPE, stdin=subprocess.PIPE, universal_newlines = True)\n",
    "\n",
    "    # Poner la instancia en la entrada estandar.\n",
    "    process.stdin.write(instancia)\n",
    "    process.stdin.flush()\n",
    "\n",
    "    # Correr experimento.\n",
    "    exit_code = process.wait()\n",
    "\n",
    "    # Verificar que el proceso no fallo.\n",
    "    if exit_code != 0: raise(Exception,F\"Hubo un error en la experimentacion para el metodo: {metodo} con la instancia {archivo_instancia}.\")\n",
    "    # Leer salida de STDERR con los tiempos de ejecucion de cada metodo.\n",
    "    tiempo_de_ejecucion = float(process.stdout.read());\n",
    "    \n",
    "    process.stdin.close();\n",
    "    process.stdout.close();\n",
    "    process.stderr.close();\n",
    "    \n",
    "    return tiempo_de_ejecucion;"
   ]
  },
  {
   "cell_type": "code",
   "execution_count": 4,
   "metadata": {},
   "outputs": [],
   "source": [
    "experimentos=[]"
   ]
  },
  {
   "cell_type": "markdown",
   "metadata": {},
   "source": [
    "## Experimento 1"
   ]
  },
  {
   "cell_type": "code",
   "execution_count": 6,
   "metadata": {},
   "outputs": [],
   "source": [
    "\n",
    "df = df_angulos_variables\n",
    "\n",
    "for n in range(len(df)):\n",
    "    fila_n = df.iloc[n];\n",
    "\n",
    "    e1 = [fila_n['dataset'],'LU', fila_n['archivo'],fila_n['n'],fila_n['m'],fila_n['nist'], './resultados_instancias/{}/{}_LU'.format(fila_n['dataset'],fila_n['instancia'])]\n",
    "\n",
    "    experimentos.append(e1)"
   ]
  },
  {
   "cell_type": "markdown",
   "metadata": {},
   "source": [
    "## Experimento 2"
   ]
  },
  {
   "cell_type": "code",
   "execution_count": 6,
   "metadata": {},
   "outputs": [],
   "source": [
    "\n",
    "df = df_radios_variables\n",
    "\n",
    "for n in range(len(df)):\n",
    "    fila_n = df.iloc[n];\n",
    "\n",
    "    e1 = [fila_n['dataset'],'LU', fila_n['archivo'],fila_n['n'],fila_n['m'],fila_n['nist'], './resultados_instancias/{}/{}_LU'.format(fila_n['dataset'],fila_n['instancia'])]\n",
    "\n",
    "    experimentos.append(e1)"
   ]
  },
  {
   "cell_type": "markdown",
   "metadata": {},
   "source": [
    "## Experimento 3"
   ]
  },
  {
   "cell_type": "code",
   "execution_count": 20,
   "metadata": {},
   "outputs": [],
   "source": [
    "\n",
    "df = df_muchos_nist\n",
    "\n",
    "for n in range(len(df)):\n",
    "    fila_n = df.iloc[n];\n",
    "\n",
    "    e1 = [fila_n['dataset'],'LU', fila_n['archivo'],fila_n['n'],fila_n['m'],fila_n['nist'], './resultados_instancias/{}/{}_LU'.format(fila_n['dataset'],fila_n['instancia'])]\n",
    "    e2 = [fila_n['dataset'],'GAUSS', fila_n['archivo'],fila_n['n'],fila_n['m'],fila_n['nist'], './resultados_instancias/{}/{}_GAUSS'.format(fila_n['dataset'],fila_n['instancia'])]\n",
    "\n",
    "    experimentos.append(e1)\n",
    "    experimentos.append(e2)"
   ]
  },
  {
   "cell_type": "markdown",
   "metadata": {},
   "source": [
    "\n",
    "## Experimento 4"
   ]
  },
  {
   "cell_type": "code",
   "execution_count": 22,
   "metadata": {},
   "outputs": [],
   "source": [
    "\n",
    "df = df_gauss_lu\n",
    "\n",
    "for n in range(len(df)):\n",
    "    fila_n = df.iloc[n];\n",
    "\n",
    "    e1 = [fila_n['dataset'],'LU', fila_n['archivo'],fila_n['n'],fila_n['m'],fila_n['nist'], '/resultados_instancias/{}/{}_LU'.format(fila_n['dataset'],fila_n['instancia'])]\n",
    "    e2 = [fila_n['dataset'],'GAUSS', fila_n['archivo'],fila_n['n'],fila_n['m'],fila_n['nist'], '/resultados_instancias/{}/{}_GAUSS'.format(fila_n['dataset'],fila_n['instancia'])]\n",
    "\n",
    "    experimentos.append(e1)\n",
    "    experimentos.append(e2)\n"
   ]
  },
  {
   "cell_type": "markdown",
   "metadata": {},
   "source": [
    "## Correr experimentos"
   ]
  },
  {
   "cell_type": "code",
   "execution_count": 9,
   "metadata": {},
   "outputs": [
    {
     "data": {
      "application/vnd.jupyter.widget-view+json": {
       "model_id": "8769bf681abf4792ab6f46d7fee2b329",
       "version_major": 2,
       "version_minor": 0
      },
      "text/plain": [
       "  0%|          | 0/27 [00:00<?, ?it/s]"
      ]
     },
     "metadata": {},
     "output_type": "display_data"
    },
    {
     "data": {
      "application/vnd.jupyter.widget-view+json": {
       "model_id": "",
       "version_major": 2,
       "version_minor": 0
      },
      "text/plain": [
       "  0%|          | 0/5 [00:00<?, ?it/s]"
      ]
     },
     "metadata": {},
     "output_type": "display_data"
    },
    {
     "data": {
      "application/vnd.jupyter.widget-view+json": {
       "model_id": "",
       "version_major": 2,
       "version_minor": 0
      },
      "text/plain": [
       "  0%|          | 0/5 [00:00<?, ?it/s]"
      ]
     },
     "metadata": {},
     "output_type": "display_data"
    },
    {
     "data": {
      "application/vnd.jupyter.widget-view+json": {
       "model_id": "",
       "version_major": 2,
       "version_minor": 0
      },
      "text/plain": [
       "  0%|          | 0/5 [00:00<?, ?it/s]"
      ]
     },
     "metadata": {},
     "output_type": "display_data"
    },
    {
     "data": {
      "application/vnd.jupyter.widget-view+json": {
       "model_id": "",
       "version_major": 2,
       "version_minor": 0
      },
      "text/plain": [
       "  0%|          | 0/5 [00:00<?, ?it/s]"
      ]
     },
     "metadata": {},
     "output_type": "display_data"
    },
    {
     "data": {
      "application/vnd.jupyter.widget-view+json": {
       "model_id": "",
       "version_major": 2,
       "version_minor": 0
      },
      "text/plain": [
       "  0%|          | 0/5 [00:00<?, ?it/s]"
      ]
     },
     "metadata": {},
     "output_type": "display_data"
    },
    {
     "data": {
      "application/vnd.jupyter.widget-view+json": {
       "model_id": "",
       "version_major": 2,
       "version_minor": 0
      },
      "text/plain": [
       "  0%|          | 0/5 [00:00<?, ?it/s]"
      ]
     },
     "metadata": {},
     "output_type": "display_data"
    },
    {
     "data": {
      "application/vnd.jupyter.widget-view+json": {
       "model_id": "",
       "version_major": 2,
       "version_minor": 0
      },
      "text/plain": [
       "  0%|          | 0/5 [00:00<?, ?it/s]"
      ]
     },
     "metadata": {},
     "output_type": "display_data"
    },
    {
     "data": {
      "application/vnd.jupyter.widget-view+json": {
       "model_id": "",
       "version_major": 2,
       "version_minor": 0
      },
      "text/plain": [
       "  0%|          | 0/5 [00:00<?, ?it/s]"
      ]
     },
     "metadata": {},
     "output_type": "display_data"
    },
    {
     "data": {
      "application/vnd.jupyter.widget-view+json": {
       "model_id": "",
       "version_major": 2,
       "version_minor": 0
      },
      "text/plain": [
       "  0%|          | 0/5 [00:00<?, ?it/s]"
      ]
     },
     "metadata": {},
     "output_type": "display_data"
    },
    {
     "data": {
      "application/vnd.jupyter.widget-view+json": {
       "model_id": "",
       "version_major": 2,
       "version_minor": 0
      },
      "text/plain": [
       "  0%|          | 0/5 [00:00<?, ?it/s]"
      ]
     },
     "metadata": {},
     "output_type": "display_data"
    },
    {
     "data": {
      "application/vnd.jupyter.widget-view+json": {
       "model_id": "",
       "version_major": 2,
       "version_minor": 0
      },
      "text/plain": [
       "  0%|          | 0/5 [00:00<?, ?it/s]"
      ]
     },
     "metadata": {},
     "output_type": "display_data"
    },
    {
     "data": {
      "application/vnd.jupyter.widget-view+json": {
       "model_id": "",
       "version_major": 2,
       "version_minor": 0
      },
      "text/plain": [
       "  0%|          | 0/5 [00:00<?, ?it/s]"
      ]
     },
     "metadata": {},
     "output_type": "display_data"
    },
    {
     "data": {
      "application/vnd.jupyter.widget-view+json": {
       "model_id": "",
       "version_major": 2,
       "version_minor": 0
      },
      "text/plain": [
       "  0%|          | 0/5 [00:00<?, ?it/s]"
      ]
     },
     "metadata": {},
     "output_type": "display_data"
    },
    {
     "data": {
      "application/vnd.jupyter.widget-view+json": {
       "model_id": "",
       "version_major": 2,
       "version_minor": 0
      },
      "text/plain": [
       "  0%|          | 0/5 [00:00<?, ?it/s]"
      ]
     },
     "metadata": {},
     "output_type": "display_data"
    },
    {
     "data": {
      "application/vnd.jupyter.widget-view+json": {
       "model_id": "",
       "version_major": 2,
       "version_minor": 0
      },
      "text/plain": [
       "  0%|          | 0/5 [00:00<?, ?it/s]"
      ]
     },
     "metadata": {},
     "output_type": "display_data"
    },
    {
     "data": {
      "application/vnd.jupyter.widget-view+json": {
       "model_id": "",
       "version_major": 2,
       "version_minor": 0
      },
      "text/plain": [
       "  0%|          | 0/5 [00:00<?, ?it/s]"
      ]
     },
     "metadata": {},
     "output_type": "display_data"
    },
    {
     "data": {
      "application/vnd.jupyter.widget-view+json": {
       "model_id": "",
       "version_major": 2,
       "version_minor": 0
      },
      "text/plain": [
       "  0%|          | 0/5 [00:00<?, ?it/s]"
      ]
     },
     "metadata": {},
     "output_type": "display_data"
    },
    {
     "data": {
      "application/vnd.jupyter.widget-view+json": {
       "model_id": "",
       "version_major": 2,
       "version_minor": 0
      },
      "text/plain": [
       "  0%|          | 0/5 [00:00<?, ?it/s]"
      ]
     },
     "metadata": {},
     "output_type": "display_data"
    },
    {
     "data": {
      "application/vnd.jupyter.widget-view+json": {
       "model_id": "",
       "version_major": 2,
       "version_minor": 0
      },
      "text/plain": [
       "  0%|          | 0/5 [00:00<?, ?it/s]"
      ]
     },
     "metadata": {},
     "output_type": "display_data"
    },
    {
     "data": {
      "application/vnd.jupyter.widget-view+json": {
       "model_id": "",
       "version_major": 2,
       "version_minor": 0
      },
      "text/plain": [
       "  0%|          | 0/5 [00:00<?, ?it/s]"
      ]
     },
     "metadata": {},
     "output_type": "display_data"
    },
    {
     "data": {
      "application/vnd.jupyter.widget-view+json": {
       "model_id": "",
       "version_major": 2,
       "version_minor": 0
      },
      "text/plain": [
       "  0%|          | 0/5 [00:00<?, ?it/s]"
      ]
     },
     "metadata": {},
     "output_type": "display_data"
    },
    {
     "data": {
      "application/vnd.jupyter.widget-view+json": {
       "model_id": "",
       "version_major": 2,
       "version_minor": 0
      },
      "text/plain": [
       "  0%|          | 0/5 [00:00<?, ?it/s]"
      ]
     },
     "metadata": {},
     "output_type": "display_data"
    },
    {
     "data": {
      "application/vnd.jupyter.widget-view+json": {
       "model_id": "",
       "version_major": 2,
       "version_minor": 0
      },
      "text/plain": [
       "  0%|          | 0/5 [00:00<?, ?it/s]"
      ]
     },
     "metadata": {},
     "output_type": "display_data"
    },
    {
     "data": {
      "application/vnd.jupyter.widget-view+json": {
       "model_id": "",
       "version_major": 2,
       "version_minor": 0
      },
      "text/plain": [
       "  0%|          | 0/5 [00:00<?, ?it/s]"
      ]
     },
     "metadata": {},
     "output_type": "display_data"
    },
    {
     "data": {
      "application/vnd.jupyter.widget-view+json": {
       "model_id": "",
       "version_major": 2,
       "version_minor": 0
      },
      "text/plain": [
       "  0%|          | 0/5 [00:00<?, ?it/s]"
      ]
     },
     "metadata": {},
     "output_type": "display_data"
    },
    {
     "data": {
      "application/vnd.jupyter.widget-view+json": {
       "model_id": "",
       "version_major": 2,
       "version_minor": 0
      },
      "text/plain": [
       "  0%|          | 0/5 [00:00<?, ?it/s]"
      ]
     },
     "metadata": {},
     "output_type": "display_data"
    },
    {
     "data": {
      "application/vnd.jupyter.widget-view+json": {
       "model_id": "",
       "version_major": 2,
       "version_minor": 0
      },
      "text/plain": [
       "  0%|          | 0/5 [00:00<?, ?it/s]"
      ]
     },
     "metadata": {},
     "output_type": "display_data"
    }
   ],
   "source": [
    "columnas = [\"dataset\",\"metodo\" ,\"n\", \"m\", \"nist\" , \"tiempo\"];\n",
    "filas = [];\n",
    "numero = 1\n",
    "T = 5 # Numero de veces que se ejecuta cada experimento (para mayor fidelidad del tiempo).\n",
    "for experimento in tqdm(experimentos):\n",
    "    \n",
    "    numero += 1\n",
    "    \n",
    "    # Ejecutamos el experimento T veces y obtenemos la mediana.\n",
    "    tiempos = []\n",
    "    for i in tnrange(T, leave=False):\n",
    "        tiempos.append(correr_experimento(experimento[1], experimento[2], experimento[6]+f'_{i}'));\n",
    "    tiempo = np.median(tiempos);\n",
    "    \n",
    "    filas.append([experimento[0], experimento[1],experimento[3],experimento[4],experimento[5],tiempo]);\n",
    "    \n",
    "    \n",
    "df_resultado = pd.DataFrame(filas, columns=columnas);\n",
    "df_resultado.to_csv(\"resultados_instancias/resultado.csv\", index=False, header=True);"
   ]
  },
  {
   "cell_type": "code",
   "execution_count": 36,
   "metadata": {},
   "outputs": [],
   "source": [
    "experimentos=[]"
   ]
  },
  {
   "cell_type": "code",
   "execution_count": 7,
   "metadata": {},
   "outputs": [
    {
     "data": {
      "text/plain": [
       "[['angulos_variables',\n",
       "  'LU',\n",
       "  'instancias/angulos_variables/angulos_variables_6.txt',\n",
       "  6,\n",
       "  10,\n",
       "  1,\n",
       "  './resultados_instancias/angulos_variables/angulos_variables_6_LU'],\n",
       " ['angulos_variables',\n",
       "  'LU',\n",
       "  'instancias/angulos_variables/angulos_variables_8.txt',\n",
       "  8,\n",
       "  10,\n",
       "  1,\n",
       "  './resultados_instancias/angulos_variables/angulos_variables_8_LU'],\n",
       " ['angulos_variables',\n",
       "  'LU',\n",
       "  'instancias/angulos_variables/angulos_variables_10.txt',\n",
       "  10,\n",
       "  10,\n",
       "  1,\n",
       "  './resultados_instancias/angulos_variables/angulos_variables_10_LU'],\n",
       " ['angulos_variables',\n",
       "  'LU',\n",
       "  'instancias/angulos_variables/angulos_variables_12.txt',\n",
       "  12,\n",
       "  10,\n",
       "  1,\n",
       "  './resultados_instancias/angulos_variables/angulos_variables_12_LU'],\n",
       " ['angulos_variables',\n",
       "  'LU',\n",
       "  'instancias/angulos_variables/angulos_variables_14.txt',\n",
       "  14,\n",
       "  10,\n",
       "  1,\n",
       "  './resultados_instancias/angulos_variables/angulos_variables_14_LU'],\n",
       " ['angulos_variables',\n",
       "  'LU',\n",
       "  'instancias/angulos_variables/angulos_variables_16.txt',\n",
       "  16,\n",
       "  10,\n",
       "  1,\n",
       "  './resultados_instancias/angulos_variables/angulos_variables_16_LU'],\n",
       " ['angulos_variables',\n",
       "  'LU',\n",
       "  'instancias/angulos_variables/angulos_variables_18.txt',\n",
       "  18,\n",
       "  10,\n",
       "  1,\n",
       "  './resultados_instancias/angulos_variables/angulos_variables_18_LU'],\n",
       " ['angulos_variables',\n",
       "  'LU',\n",
       "  'instancias/angulos_variables/angulos_variables_20.txt',\n",
       "  20,\n",
       "  10,\n",
       "  1,\n",
       "  './resultados_instancias/angulos_variables/angulos_variables_20_LU'],\n",
       " ['angulos_variables',\n",
       "  'LU',\n",
       "  'instancias/angulos_variables/angulos_variables_22.txt',\n",
       "  22,\n",
       "  10,\n",
       "  1,\n",
       "  './resultados_instancias/angulos_variables/angulos_variables_22_LU'],\n",
       " ['angulos_variables',\n",
       "  'LU',\n",
       "  'instancias/angulos_variables/angulos_variables_24.txt',\n",
       "  24,\n",
       "  10,\n",
       "  1,\n",
       "  './resultados_instancias/angulos_variables/angulos_variables_24_LU'],\n",
       " ['angulos_variables',\n",
       "  'LU',\n",
       "  'instancias/angulos_variables/angulos_variables_26.txt',\n",
       "  26,\n",
       "  10,\n",
       "  1,\n",
       "  './resultados_instancias/angulos_variables/angulos_variables_26_LU'],\n",
       " ['angulos_variables',\n",
       "  'LU',\n",
       "  'instancias/angulos_variables/angulos_variables_28.txt',\n",
       "  28,\n",
       "  10,\n",
       "  1,\n",
       "  './resultados_instancias/angulos_variables/angulos_variables_28_LU'],\n",
       " ['angulos_variables',\n",
       "  'LU',\n",
       "  'instancias/angulos_variables/angulos_variables_30.txt',\n",
       "  30,\n",
       "  10,\n",
       "  1,\n",
       "  './resultados_instancias/angulos_variables/angulos_variables_30_LU'],\n",
       " ['angulos_variables',\n",
       "  'LU',\n",
       "  'instancias/angulos_variables/angulos_variables_32.txt',\n",
       "  32,\n",
       "  10,\n",
       "  1,\n",
       "  './resultados_instancias/angulos_variables/angulos_variables_32_LU'],\n",
       " ['angulos_variables',\n",
       "  'LU',\n",
       "  'instancias/angulos_variables/angulos_variables_34.txt',\n",
       "  34,\n",
       "  10,\n",
       "  1,\n",
       "  './resultados_instancias/angulos_variables/angulos_variables_34_LU'],\n",
       " ['angulos_variables',\n",
       "  'LU',\n",
       "  'instancias/angulos_variables/angulos_variables_36.txt',\n",
       "  36,\n",
       "  10,\n",
       "  1,\n",
       "  './resultados_instancias/angulos_variables/angulos_variables_36_LU'],\n",
       " ['angulos_variables',\n",
       "  'LU',\n",
       "  'instancias/angulos_variables/angulos_variables_38.txt',\n",
       "  38,\n",
       "  10,\n",
       "  1,\n",
       "  './resultados_instancias/angulos_variables/angulos_variables_38_LU'],\n",
       " ['angulos_variables',\n",
       "  'LU',\n",
       "  'instancias/angulos_variables/angulos_variables_40.txt',\n",
       "  40,\n",
       "  10,\n",
       "  1,\n",
       "  './resultados_instancias/angulos_variables/angulos_variables_40_LU'],\n",
       " ['angulos_variables',\n",
       "  'LU',\n",
       "  'instancias/angulos_variables/angulos_variables_42.txt',\n",
       "  42,\n",
       "  10,\n",
       "  1,\n",
       "  './resultados_instancias/angulos_variables/angulos_variables_42_LU'],\n",
       " ['angulos_variables',\n",
       "  'LU',\n",
       "  'instancias/angulos_variables/angulos_variables_44.txt',\n",
       "  44,\n",
       "  10,\n",
       "  1,\n",
       "  './resultados_instancias/angulos_variables/angulos_variables_44_LU'],\n",
       " ['angulos_variables',\n",
       "  'LU',\n",
       "  'instancias/angulos_variables/angulos_variables_46.txt',\n",
       "  46,\n",
       "  10,\n",
       "  1,\n",
       "  './resultados_instancias/angulos_variables/angulos_variables_46_LU'],\n",
       " ['angulos_variables',\n",
       "  'LU',\n",
       "  'instancias/angulos_variables/angulos_variables_48.txt',\n",
       "  48,\n",
       "  10,\n",
       "  1,\n",
       "  './resultados_instancias/angulos_variables/angulos_variables_48_LU'],\n",
       " ['angulos_variables',\n",
       "  'LU',\n",
       "  'instancias/angulos_variables/angulos_variables_50.txt',\n",
       "  50,\n",
       "  10,\n",
       "  1,\n",
       "  './resultados_instancias/angulos_variables/angulos_variables_50_LU'],\n",
       " ['angulos_variables',\n",
       "  'LU',\n",
       "  'instancias/angulos_variables/angulos_variables_52.txt',\n",
       "  52,\n",
       "  10,\n",
       "  1,\n",
       "  './resultados_instancias/angulos_variables/angulos_variables_52_LU'],\n",
       " ['angulos_variables',\n",
       "  'LU',\n",
       "  'instancias/angulos_variables/angulos_variables_54.txt',\n",
       "  54,\n",
       "  10,\n",
       "  1,\n",
       "  './resultados_instancias/angulos_variables/angulos_variables_54_LU'],\n",
       " ['angulos_variables',\n",
       "  'LU',\n",
       "  'instancias/angulos_variables/angulos_variables_56.txt',\n",
       "  56,\n",
       "  10,\n",
       "  1,\n",
       "  './resultados_instancias/angulos_variables/angulos_variables_56_LU'],\n",
       " ['angulos_variables',\n",
       "  'LU',\n",
       "  'instancias/angulos_variables/angulos_variables_58.txt',\n",
       "  58,\n",
       "  10,\n",
       "  1,\n",
       "  './resultados_instancias/angulos_variables/angulos_variables_58_LU']]"
      ]
     },
     "execution_count": 7,
     "metadata": {},
     "output_type": "execute_result"
    }
   ],
   "source": [
    "experimentos"
   ]
  }
 ],
 "metadata": {
  "interpreter": {
   "hash": "916dbcbb3f70747c44a77c7bcd40155683ae19c65e1c03b4aa3499c5328201f1"
  },
  "kernelspec": {
   "display_name": "Python 3 (ipykernel)",
   "language": "python",
   "name": "python3"
  },
  "language_info": {
   "codemirror_mode": {
    "name": "ipython",
    "version": 3
   },
   "file_extension": ".py",
   "mimetype": "text/x-python",
   "name": "python",
   "nbconvert_exporter": "python",
   "pygments_lexer": "ipython3",
   "version": "3.8.10"
  }
 },
 "nbformat": 4,
 "nbformat_minor": 2
}
