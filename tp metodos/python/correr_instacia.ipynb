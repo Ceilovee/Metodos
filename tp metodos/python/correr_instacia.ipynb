{
 "cells": [
  {
   "cell_type": "code",
   "execution_count": 1,
   "metadata": {},
   "outputs": [],
   "source": [
    "import numpy as np\n",
    "import pandas as pd\n",
    "import seaborn as sns\n",
    "import subprocess\n",
    "import matplotlib.pyplot as plt\n",
    "from IPython.display import display, clear_output\n",
    "from tqdm.notebook import tnrange,tqdm"
   ]
  },
  {
   "cell_type": "code",
   "execution_count": 18,
   "metadata": {},
   "outputs": [],
   "source": [
    "def leer_instancia(path_instancia):\n",
    "    with open(path_instancia, \"r\") as f:\n",
    "        return f.read()\n",
    "\n",
    "df_angulos_variables = pd.read_csv(\"instancias/angulos_variables/indice.csv\")\n",
    "df_radios_variables = pd.read_csv(\"instancias/radios_variables/indice.csv\")\n",
    "df_gauss_lu = pd.read_csv(\"instancias/gauss-lu/indice.csv\")\n",
    "df_muchos_nist = pd.read_csv(\"instancias/muchos_nist/indice.csv\")\n",
    "df_baja_externa = pd.read_csv(\"instancias/baja-externa/indice.csv\")\n",
    "df_alta_externa = pd.read_csv(\"instancias/alta-externa/indice.csv\")\n"
   ]
  },
  {
   "cell_type": "code",
   "execution_count": 4,
   "metadata": {},
   "outputs": [],
   "source": [
    "def correr_experimento(metodo, archivo_instancia, out):\n",
    "    # Leer archivo de la instancia.\n",
    "    instancia = leer_instancia(archivo_instancia)\n",
    "    # Crear proceso para ejecutar el codigo.\n",
    "    process = subprocess.Popen([\"../main\", metodo, out+'.txt'], stderr=subprocess.PIPE, stdout=subprocess.PIPE, stdin=subprocess.PIPE, universal_newlines = True)\n",
    "\n",
    "    # Poner la instancia en la entrada estandar.\n",
    "    process.stdin.write(instancia)\n",
    "    process.stdin.flush()\n",
    "\n",
    "    # Correr experimento.\n",
    "    exit_code = process.wait()\n",
    "\n",
    "    # Verificar que el proceso no fallo.\n",
    "    if exit_code != 0: raise(Exception,F\"Hubo un error en la experimentacion para el metodo: {metodo} con la instancia {archivo_instancia}.\")\n",
    "    # Leer salida de STDERR con los tiempos de ejecucion de cada metodo.\n",
    "    tiempo_de_ejecucion = float(process.stdout.read());\n",
    "    \n",
    "    process.stdin.close();\n",
    "    process.stdout.close();\n",
    "    process.stderr.close();\n",
    "    \n",
    "    return tiempo_de_ejecucion;"
   ]
  },
  {
   "cell_type": "code",
   "execution_count": 19,
   "metadata": {},
   "outputs": [],
   "source": [
    "experimentos=[]"
   ]
  },
  {
   "cell_type": "markdown",
   "metadata": {},
   "source": [
    "## Experimento 1"
   ]
  },
  {
   "cell_type": "code",
   "execution_count": 6,
   "metadata": {},
   "outputs": [],
   "source": [
    "\n",
    "df = df_angulos_variables\n",
    "\n",
    "for n in range(len(df)):\n",
    "    fila_n = df.iloc[n];\n",
    "\n",
    "    e1 = [fila_n['dataset'],'LU', fila_n['archivo'],fila_n['n'],fila_n['m'],fila_n['nist'], './resultados_instancias/{}/{}_LU'.format(fila_n['dataset'],fila_n['instancia'])]\n",
    "\n",
    "    experimentos.append(e1)"
   ]
  },
  {
   "cell_type": "markdown",
   "metadata": {},
   "source": [
    "## Experimento 2"
   ]
  },
  {
   "cell_type": "code",
   "execution_count": 6,
   "metadata": {},
   "outputs": [],
   "source": [
    "\n",
    "df = df_radios_variables\n",
    "\n",
    "for n in range(len(df)):\n",
    "    fila_n = df.iloc[n];\n",
    "\n",
    "    e1 = [fila_n['dataset'],'LU', fila_n['archivo'],fila_n['n'],fila_n['m'],fila_n['nist'], './resultados_instancias/{}/{}_LU'.format(fila_n['dataset'],fila_n['instancia'])]\n",
    "\n",
    "    experimentos.append(e1)"
   ]
  },
  {
   "cell_type": "markdown",
   "metadata": {},
   "source": [
    "## Experimento 3"
   ]
  },
  {
   "cell_type": "code",
   "execution_count": 20,
   "metadata": {},
   "outputs": [],
   "source": [
    "\n",
    "df = df_muchos_nist\n",
    "\n",
    "for n in range(len(df)):\n",
    "    fila_n = df.iloc[n];\n",
    "\n",
    "    e1 = [fila_n['dataset'],'LU', fila_n['archivo'],fila_n['n'],fila_n['m'],fila_n['nist'], './resultados_instancias/{}/{}_LU'.format(fila_n['dataset'],fila_n['instancia'])]\n",
    "    e2 = [fila_n['dataset'],'GAUSS', fila_n['archivo'],fila_n['n'],fila_n['m'],fila_n['nist'], './resultados_instancias/{}/{}_GAUSS'.format(fila_n['dataset'],fila_n['instancia'])]\n",
    "\n",
    "    experimentos.append(e1)\n",
    "    experimentos.append(e2)"
   ]
  },
  {
   "cell_type": "markdown",
   "metadata": {},
   "source": [
    "\n",
    "## Experimento 4"
   ]
  },
  {
   "cell_type": "code",
   "execution_count": 22,
   "metadata": {},
   "outputs": [],
   "source": [
    "\n",
    "df = df_gauss_lu\n",
    "\n",
    "for n in range(len(df)):\n",
    "    fila_n = df.iloc[n];\n",
    "\n",
    "    e1 = [fila_n['dataset'],'LU', fila_n['archivo'],fila_n['n'],fila_n['m'],fila_n['nist'], '/resultados_instancias/{}/{}_LU'.format(fila_n['dataset'],fila_n['instancia'])]\n",
    "    e2 = [fila_n['dataset'],'GAUSS', fila_n['archivo'],fila_n['n'],fila_n['m'],fila_n['nist'], '/resultados_instancias/{}/{}_GAUSS'.format(fila_n['dataset'],fila_n['instancia'])]\n",
    "\n",
    "    experimentos.append(e1)\n",
    "    experimentos.append(e2)\n"
   ]
  },
  {
   "cell_type": "markdown",
   "metadata": {},
   "source": [
    "# Baja externa"
   ]
  },
  {
   "cell_type": "code",
   "execution_count": 20,
   "metadata": {},
   "outputs": [],
   "source": [
    "df = df_baja_externa\n",
    "\n",
    "for n in range(len(df)):\n",
    "    fila_n = df.iloc[n];\n",
    "\n",
    "    e1 = [fila_n['dataset'],'GAUSS', fila_n['archivo'],fila_n['n'],fila_n['m'],fila_n['nist'], './resultados_instancias/{}/{}_GAUSS'.format(fila_n['dataset'],fila_n['instancia'])]\n",
    "\n",
    "    experimentos.append(e1)"
   ]
  },
  {
   "cell_type": "markdown",
   "metadata": {},
   "source": [
    "# Alta externa"
   ]
  },
  {
   "cell_type": "code",
   "execution_count": 24,
   "metadata": {},
   "outputs": [],
   "source": [
    "df = df_alta_externa\n",
    "\n",
    "for n in range(len(df)):\n",
    "    fila_n = df.iloc[n];\n",
    "\n",
    "    e1 = [fila_n['dataset'],'GAUSS', fila_n['archivo'],fila_n['n'],fila_n['m'],fila_n['nist'], './resultados_instancias/{}/{}_GAUSS'.format(fila_n['dataset'],fila_n['instancia'])]\n",
    "\n",
    "    experimentos.append(e1)"
   ]
  },
  {
   "cell_type": "markdown",
   "metadata": {},
   "source": [
    "## Correr experimentos"
   ]
  },
  {
   "cell_type": "code",
   "execution_count": 26,
   "metadata": {},
   "outputs": [
    {
     "data": {
      "application/vnd.jupyter.widget-view+json": {
       "model_id": "7cd0e57dd9ed46f1a9d2251ce1bb7d1e",
       "version_major": 2,
       "version_minor": 0
      },
      "text/plain": [
       "  0%|          | 0/3 [00:00<?, ?it/s]"
      ]
     },
     "metadata": {},
     "output_type": "display_data"
    },
    {
     "data": {
      "application/vnd.jupyter.widget-view+json": {
       "model_id": "aa62474431f549188ef3a1b7e3be6943",
       "version_major": 2,
       "version_minor": 0
      },
      "text/plain": [
       "  0%|          | 0/5 [00:00<?, ?it/s]"
      ]
     },
     "metadata": {},
     "output_type": "display_data"
    },
    {
     "data": {
      "application/vnd.jupyter.widget-view+json": {
       "model_id": "b13ebdbc3a3241aca4e66f23748f2ef3",
       "version_major": 2,
       "version_minor": 0
      },
      "text/plain": [
       "  0%|          | 0/5 [00:00<?, ?it/s]"
      ]
     },
     "metadata": {},
     "output_type": "display_data"
    },
    {
     "data": {
      "application/vnd.jupyter.widget-view+json": {
       "model_id": "a289d815f97c4e01ab19130aa100aadf",
       "version_major": 2,
       "version_minor": 0
      },
      "text/plain": [
       "  0%|          | 0/5 [00:00<?, ?it/s]"
      ]
     },
     "metadata": {},
     "output_type": "display_data"
    }
   ],
   "source": [
    "columnas = [\"dataset\",\"metodo\" ,\"n\", \"m\", \"nist\" , \"tiempo\"];\n",
    "filas = [];\n",
    "numero = 1\n",
    "T = 5 # Numero de veces que se ejecuta cada experimento (para mayor fidelidad del tiempo).\n",
    "for experimento in tqdm(experimentos):\n",
    "    \n",
    "    numero += 1\n",
    "    \n",
    "    # Ejecutamos el experimento T veces y obtenemos la mediana.\n",
    "    tiempos = []\n",
    "    for i in tnrange(T, leave=False):\n",
    "        tiempos.append(correr_experimento(experimento[1], experimento[2], experimento[6]+f'_{i}'));\n",
    "    tiempo = np.median(tiempos);\n",
    "    \n",
    "    filas.append([experimento[0], experimento[1],experimento[3],experimento[4],experimento[5],tiempo]);\n",
    "    \n",
    "    \n",
    "df_resultado = pd.DataFrame(filas, columns=columnas);\n",
    "df_resultado.to_csv(\"resultados_instancias/resultado.csv\", index=False, header=True);"
   ]
  },
  {
   "cell_type": "code",
   "execution_count": null,
   "metadata": {},
   "outputs": [],
   "source": []
  },
  {
   "cell_type": "code",
   "execution_count": 23,
   "metadata": {},
   "outputs": [],
   "source": [
    "experimentos=[]"
   ]
  },
  {
   "cell_type": "code",
   "execution_count": 8,
   "metadata": {},
   "outputs": [
    {
     "data": {
      "text/plain": [
       "[['baja-externa',\n",
       "  'GAUSS',\n",
       "  'instancias/baja-externa/baja_externa_20_20.txt',\n",
       "  20,\n",
       "  20,\n",
       "  1,\n",
       "  './resultados_instancias/baja-externa/baja-externa_20_20_GAUSS'],\n",
       " ['baja-externa',\n",
       "  'GAUSS',\n",
       "  'instancias/baja-externa/baja_externa_5_20.txt',\n",
       "  5,\n",
       "  20,\n",
       "  1,\n",
       "  './resultados_instancias/baja-externa/baja-externa_5_20_GAUSS'],\n",
       " ['baja-externa',\n",
       "  'GAUSS',\n",
       "  'instancias/baja-externa/baja_externa_20_5.txt',\n",
       "  20,\n",
       "  5,\n",
       "  1,\n",
       "  './resultados_instancias/baja-externa/baja-externa_20_5_GAUSS']]"
      ]
     },
     "execution_count": 8,
     "metadata": {},
     "output_type": "execute_result"
    }
   ],
   "source": [
    "experimentos"
   ]
  }
 ],
 "metadata": {
  "interpreter": {
   "hash": "916dbcbb3f70747c44a77c7bcd40155683ae19c65e1c03b4aa3499c5328201f1"
  },
  "kernelspec": {
   "display_name": "Python 3 (ipykernel)",
   "language": "python",
   "name": "python3"
  },
  "language_info": {
   "codemirror_mode": {
    "name": "ipython",
    "version": 3
   },
   "file_extension": ".py",
   "mimetype": "text/x-python",
   "name": "python",
   "nbconvert_exporter": "python",
   "pygments_lexer": "ipython3",
   "version": "3.8.10"
  }
 },
 "nbformat": 4,
 "nbformat_minor": 2
}
