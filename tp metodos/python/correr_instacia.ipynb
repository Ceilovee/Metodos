{
 "cells": [
  {
   "cell_type": "code",
   "execution_count": 1,
   "metadata": {},
   "outputs": [],
   "source": [
    "import numpy as np\n",
    "import pandas as pd\n",
    "import seaborn as sns\n",
    "import subprocess\n",
    "import matplotlib.pyplot as plt\n",
    "from IPython.display import display, clear_output\n",
    "from tqdm.notebook import tnrange,tqdm"
   ]
  },
  {
   "cell_type": "code",
   "execution_count": 2,
   "metadata": {},
   "outputs": [],
   "source": [
    "def leer_instancia(path_instancia):\n",
    "    with open(path_instancia, \"r\") as f:\n",
    "        return f.read();"
   ]
  },
  {
   "cell_type": "code",
   "execution_count": 3,
   "metadata": {},
   "outputs": [],
   "source": [
    "def correr_experimento(metodo, archivo_instancia, out):\n",
    "    # Leer archivo de la instancia.\n",
    "    instancia = leer_instancia(archivo_instancia)\n",
    "    \n",
    "    # Crear proceso para ejecutar el codigo.\n",
    "    process = subprocess.Popen([\"../main\", metodo, out], stderr=subprocess.PIPE, stdout=subprocess.PIPE, stdin=subprocess.PIPE, universal_newlines = True)\n",
    "\n",
    "    # Poner la instancia en la entrada estandar.\n",
    "    process.stdin.write(instancia)\n",
    "    process.stdin.flush()\n",
    "\n",
    "    # Correr experimento.\n",
    "    exit_code = process.wait()\n",
    "\n",
    "    # Verificar que el proceso no fallo.\n",
    "    if exit_code != 0: raise(F\"Hubo un error en la experimentacion para el metodo: {metodo} con la instancia {archivo_instancia}.\")\n",
    "    # Leer salida de STDERR con los tiempos de ejecucion de cada metodo.\n",
    "    tiempo_de_ejecucion = float(process.stdout.read());\n",
    "    \n",
    "    process.stdin.close();\n",
    "    process.stdout.close();\n",
    "    process.stderr.close();\n",
    "    \n",
    "    return tiempo_de_ejecucion;"
   ]
  },
  {
   "cell_type": "markdown",
   "metadata": {},
   "source": [
    "## Experimento 1"
   ]
  },
  {
   "cell_type": "code",
   "execution_count": 32,
   "metadata": {},
   "outputs": [],
   "source": [
    "muchos_ang = ['LU', './instancias/muchos_angulos.txt', './resultados_instancias/res_muchos_angulos.txt']\n",
    "muchos_rad = ['LU', './instancias/muchos_radios.txt', './resultados_instancias/res_muchos_radios.txt']\n",
    "\n",
    "experimentos.append(muchos_ang)\n",
    "experimentos.append(muchos_rad)"
   ]
  },
  {
   "cell_type": "markdown",
   "metadata": {},
   "source": [
    "## Experimento 2"
   ]
  },
  {
   "cell_type": "code",
   "execution_count": 33,
   "metadata": {},
   "outputs": [],
   "source": [
    "muchos_nist_lu = ['LU', './instancias/muchos_nist.txt', './resultados_instancias/muchos_nist_lu.txt']\n",
    "muchos_nist_gauss = ['GAUSS', './instancias/muchos_nist.txt', './resultados_instancias/muchos_nist_gauss.txt']\n",
    "\n",
    "experimentos.append(muchos_nist_lu)\n",
    "experimentos.append(muchos_nist_gauss)"
   ]
  },
  {
   "cell_type": "markdown",
   "metadata": {},
   "source": [
    "## Experimento 3"
   ]
  },
  {
   "cell_type": "code",
   "execution_count": 34,
   "metadata": {},
   "outputs": [],
   "source": [
    "g1_lu = ['LU', './instancias/g1.txt', './resultados_instancias/g1_lu.txt']\n",
    "g1_gauss = ['GAUSS', './instancias/g1.txt', './resultados_instancias/g1_gauss.txt']\n",
    "\n",
    "g2_lu = ['LU', './instancias/g2.txt', './resultados_instancias/g2_lu.txt']\n",
    "g2_gauss = ['GAUSS', './instancias/g2.txt', './resultados_instancias/g2_gauss.txt']\n",
    "\n",
    "g3_lu = ['LU', './instancias/g3.txt', './resultados_instancias/g3_lu.txt']\n",
    "g3_gauss = ['GAUSS', './instancias/g3.txt', './resultados_instancias/g3_gauss.txt']\n",
    "\n",
    "g4_lu = ['LU', './instancias/g4.txt', './resultados_instancias/g4_lu.txt']\n",
    "g4_gauss = ['GAUSS', './instancias/g4.txt', './resultados_instancias/g4_gauss.txt']\n",
    "\n",
    "experimentos.append(g1_lu)\n",
    "experimentos.append(g1_gauss)\n",
    "\n",
    "experimentos.append(g2_lu)\n",
    "experimentos.append(g2_gauss)\n",
    "\n",
    "experimentos.append(g3_lu)\n",
    "experimentos.append(g3_gauss)\n",
    "\n",
    "experimentos.append(g4_lu)\n",
    "experimentos.append(g4_gauss)"
   ]
  },
  {
   "cell_type": "markdown",
   "metadata": {},
   "source": [
    "## Correr experimentos"
   ]
  },
  {
   "cell_type": "code",
   "execution_count": 11,
   "metadata": {},
   "outputs": [
    {
     "data": {
      "application/vnd.jupyter.widget-view+json": {
       "model_id": "2c5348923d214c32bf51194b46ae6a65",
       "version_major": 2,
       "version_minor": 0
      },
      "text/plain": [
       "  0%|          | 0/2 [00:00<?, ?it/s]"
      ]
     },
     "metadata": {},
     "output_type": "display_data"
    },
    {
     "data": {
      "application/vnd.jupyter.widget-view+json": {
       "model_id": "",
       "version_major": 2,
       "version_minor": 0
      },
      "text/plain": [
       "  0%|          | 0/5 [00:00<?, ?it/s]"
      ]
     },
     "metadata": {},
     "output_type": "display_data"
    },
    {
     "data": {
      "application/vnd.jupyter.widget-view+json": {
       "model_id": "",
       "version_major": 2,
       "version_minor": 0
      },
      "text/plain": [
       "  0%|          | 0/5 [00:00<?, ?it/s]"
      ]
     },
     "metadata": {},
     "output_type": "display_data"
    }
   ],
   "source": [
    "columnas = [\"metodo\",\"dataset\", \"tiempo\"];\n",
    "filas = [];\n",
    "numero = 1\n",
    "T = 5 # Numero de veces que se ejecuta cada experimento (para mayor fidelidad del tiempo).\n",
    "for experimento in tqdm(experimentos):\n",
    "    \n",
    "    numero += 1\n",
    "    \n",
    "    # Ejecutamos el experimento T veces y obtenemos la mediana.\n",
    "    tiempos = []\n",
    "    for i in tnrange(T, leave=False):\n",
    "        tiempos.append(correr_experimento(experimento[0], experimento[1], experimento[2]));\n",
    "    tiempo = np.median(tiempos);\n",
    "    \n",
    "    filas.append([experimento[0], experimento[1], tiempo]);\n",
    "df_resultado = pd.DataFrame(filas, columns=columnas);\n",
    "df_resultado.to_csv(\"resultados_instancias/resultado.csv\", index=False, header=True);"
   ]
  }
 ],
 "metadata": {
  "interpreter": {
   "hash": "916dbcbb3f70747c44a77c7bcd40155683ae19c65e1c03b4aa3499c5328201f1"
  },
  "kernelspec": {
   "display_name": "Python 3 (ipykernel)",
   "language": "python",
   "name": "python3"
  },
  "language_info": {
   "codemirror_mode": {
    "name": "ipython",
    "version": 3
   },
   "file_extension": ".py",
   "mimetype": "text/x-python",
   "name": "python",
   "nbconvert_exporter": "python",
   "pygments_lexer": "ipython3",
   "version": "3.8.10"
  }
 },
 "nbformat": 4,
 "nbformat_minor": 2
}
