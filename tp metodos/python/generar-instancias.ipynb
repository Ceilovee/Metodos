{
 "cells": [
  {
   "cell_type": "markdown",
   "metadata": {},
   "source": [
    "# Generador de instancias\n",
    "En este notebook está el código para generar las instancias que se usan para experimentar.\n",
    "- Estas instancias van a ser guardadas en la carpeta __instancias__."
   ]
  },
  {
   "cell_type": "code",
   "execution_count": 1,
   "metadata": {},
   "outputs": [],
   "source": [
    "import random, math\n",
    "import pandas as pd\n",
    "import numpy as np"
   ]
  },
  {
   "cell_type": "code",
   "execution_count": 2,
   "metadata": {},
   "outputs": [],
   "source": [
    "def save_instance(dataset,instance_name, ri ,re ,m ,n ,isoterma, nist, temperaturas):\n",
    "    with open(F\"instancias/{dataset}/{instance_name}.txt\", \"w\") as f:\n",
    "        print(f\"{ri} {re} {m} {n} {isoterma} {nist}\",file=f)\n",
    "        for i in range(nist):\n",
    "            for t in temperaturas[i]: \n",
    "                print(t, file=f, end=\" \")\n",
    "            print(end='\\n', file=f)\n",
    "\n",
    "def save_index(dataset, instances):\n",
    "    with open(F\"instancias/{dataset}/instances.txt\", \"w\") as f:\n",
    "        for instance in instances: \n",
    "            print(instance, file=f)"
   ]
  },
  {
   "cell_type": "code",
   "execution_count": 3,
   "metadata": {},
   "outputs": [],
   "source": [
    "\n",
    "# experimento: ver si con temps exts la isoterma es simetrica.\n"
   ]
  },
  {
   "cell_type": "markdown",
   "metadata": {},
   "source": [
    "### nist = 1\n",
    "### una instancia con muchos angulos y pocos radios\n",
    "### una instancia con muchos radios y pocos angulos\n",
    "### ambos con mismas te"
   ]
  },
  {
   "cell_type": "code",
   "execution_count": null,
   "metadata": {},
   "outputs": [],
   "source": []
  },
  {
   "cell_type": "markdown",
   "metadata": {},
   "source": [
    "### nist = ? , grandes m,n para lu/gauss, ver que con mayor cantidad de instancias lu >> gauss."
   ]
  },
  {
   "cell_type": "code",
   "execution_count": 4,
   "metadata": {},
   "outputs": [],
   "source": [
    "filas_indice=[]\n",
    "ri=10\n",
    "re=200\n",
    "m=30\n",
    "n=30\n",
    "for nist in range(1,50):\n",
    "    res=[]\n",
    "    for i in range(nist):\n",
    "        ti=np.array([1500]*n)\n",
    "        te=[]\n",
    "\n",
    "        te = np.random.randint(40,size=n)\n",
    "        temperaturas = np.concatenate((ti,te),axis=None)\n",
    "        res.append(temperaturas)\n",
    "\n",
    "    save_instance('muchos_nist', f'muchos_nist_{nist}', ri ,re ,m ,n ,500, nist, res)\n",
    "    filas_indice.append( [\"muchos_nist\", f'muchos_nist_{nist}', n, m,nist, F\"instancias/muchos_nist/muchos_nist_{nist}.txt\"] )\n",
    "\n",
    "pd.DataFrame(filas_indice, columns=[\"dataset\", \"instancia\", \"n\", \"m\",\"nist\", \"archivo\"]).to_csv(\"instancias/muchos_nist/indice.csv\", index=False, header=True)"
   ]
  },
  {
   "cell_type": "markdown",
   "metadata": {},
   "source": [
    "### con nist=1\n",
    "### vamos agrandando m,n y vemos que gauss es mejor"
   ]
  },
  {
   "cell_type": "code",
   "execution_count": 5,
   "metadata": {},
   "outputs": [],
   "source": [
    "filas_indice=[]\n",
    "ri=10\n",
    "re=100\n",
    "nist=1\n",
    "\n",
    "for n in range(6,60,2):\n",
    "    m=n\n",
    "    ti=np.array([1500]*n)\n",
    "    te=[]\n",
    "\n",
    "    te = np.random.randint(40,size=n)\n",
    "    temperaturas = np.concatenate((ti,te),axis=None)\n",
    "\n",
    "    save_instance('gauss-lu',f'g_l_{n}', ri ,re ,m ,n ,500, 1, [temperaturas])\n",
    "    filas_indice.append( [\"gauss-lu\", f'g_l_{n}', n, m,nist, F\"instancias/gauss-lu/g_l_{n}.txt\"] )\n",
    "pd.DataFrame(filas_indice, columns=[\"dataset\", \"instancia\", \"n\", \"m\",\"nist\", \"archivo\"]).to_csv(\"instancias/gauss-lu/indice.csv\", index=False, header=True)"
   ]
  },
  {
   "cell_type": "markdown",
   "metadata": {},
   "source": [
    "## Angulos fijos, radios variables "
   ]
  },
  {
   "cell_type": "code",
   "execution_count": 6,
   "metadata": {},
   "outputs": [],
   "source": [
    "filas_indice=[]\n",
    "ri=10\n",
    "re=100\n",
    "n=10\n",
    "\n",
    "\n",
    "for m in range(6,60,2):\n",
    "\n",
    "    ti=np.array([1500]*n)\n",
    "    te=[]\n",
    "    te = np.random.randint(40,size=n)\n",
    "    temperaturas = np.concatenate((ti,te),axis=None)\n",
    "\n",
    "    save_instance('radios_variables', f'radios_variables_{m}', ri ,re ,n ,m ,500, 1, [temperaturas])\n",
    "    filas_indice.append( [\"radios_variables\", f'radios_variables_{m}', n, m,nist, F\"instancias/radios_variables/radios_variables_{m}.txt\"] )\n",
    "pd.DataFrame(filas_indice, columns=[\"dataset\", \"instancia\", \"n\", \"m\",\"nist\", \"archivo\"]).to_csv(\"instancias/radios_variables/indice.csv\", index=False, header=True)"
   ]
  },
  {
   "cell_type": "markdown",
   "metadata": {},
   "source": [
    "## Radios fijos, angulos variables "
   ]
  },
  {
   "cell_type": "code",
   "execution_count": 7,
   "metadata": {},
   "outputs": [],
   "source": [
    "filas_indice=[]\n",
    "ri=10\n",
    "re=100\n",
    "m=10\n",
    "\n",
    "\n",
    "for n in range(6,60,2):\n",
    "\n",
    "    ti=np.array([1500]*n)\n",
    "    te=[]\n",
    "    te = np.random.randint(40,size=n)\n",
    "    temperaturas = np.concatenate((ti,te),axis=None)\n",
    "\n",
    "    save_instance('angulos_variables', f'angulos_variables_{n}', ri ,re ,n ,m ,500, 1, [temperaturas])\n",
    "    filas_indice.append( [\"angulos_variables\", f'angulos_variables_{n}', n, m,nist, F\"instancias/angulos_variables/angulos_variables_{n}.txt\"] )\n",
    "\n",
    "pd.DataFrame(filas_indice, columns=[\"dataset\", \"instancia\", \"n\", \"m\",\"nist\", \"archivo\"]).to_csv(\"instancias/angulos_variables/indice.csv\", index=False, header=True)"
   ]
  },
  {
   "cell_type": "code",
   "execution_count": null,
   "metadata": {},
   "outputs": [],
   "source": []
  }
 ],
 "metadata": {
  "kernelspec": {
   "display_name": "Python 3 (ipykernel)",
   "language": "python",
   "name": "python3"
  },
  "language_info": {
   "codemirror_mode": {
    "name": "ipython",
    "version": 3
   },
   "file_extension": ".py",
   "mimetype": "text/x-python",
   "name": "python",
   "nbconvert_exporter": "python",
   "pygments_lexer": "ipython3",
   "version": "3.8.10"
  }
 },
 "nbformat": 4,
 "nbformat_minor": 4
}
