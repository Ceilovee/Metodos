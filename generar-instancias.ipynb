{
 "cells": [
  {
   "cell_type": "markdown",
   "metadata": {},
   "source": [
    "# Generador de instancias\n",
    "En este notebook está el código para generar las instancias que se usan para experimentar.\n",
    "- Estas instancias van a ser guardadas en la carpeta __instancias__."
   ]
  },
  {
   "cell_type": "code",
   "execution_count": 23,
   "metadata": {},
   "outputs": [],
   "source": [
    "import random, math\n",
    "import pandas as pd\n",
    "import numpy as np"
   ]
  },
  {
   "cell_type": "code",
   "execution_count": 24,
   "metadata": {},
   "outputs": [],
   "source": [
    "def save_instance(instance_name, ri ,re ,m ,n ,isoterma, nist, temperaturas):\n",
    "    with open(F\"instancias/{instance_name}.txt\", \"w\") as f:\n",
    "        print(f\"{ri} {re} {m} {n} {isoterma} {nist}\",file=f)\n",
    "        for i in range(nist):\n",
    "            for t in temperaturas[i]: \n",
    "                print(t, file=f, end=\" \")\n",
    "            print('\\n', file=f)\n"
   ]
  },
  {
   "cell_type": "code",
   "execution_count": 25,
   "metadata": {},
   "outputs": [],
   "source": [
    "\n",
    "# experimento: ver si con temps exts la isoterma es simetrica.\n"
   ]
  },
  {
   "cell_type": "markdown",
   "metadata": {},
   "source": [
    "### nist = 1\n",
    "### una instancia con muchos angulos y pocos radios\n",
    "### una instancia con muchos radios y pocos angulos\n",
    "### ambos con mismas te"
   ]
  },
  {
   "cell_type": "code",
   "execution_count": 26,
   "metadata": {},
   "outputs": [],
   "source": [
    "\n",
    "\n",
    "ri=10\n",
    "re=100\n",
    "\n",
    "m=300\n",
    "n=30\n",
    "\n",
    "ti=np.array([1500]*n)\n",
    "te=[]\n",
    "\n",
    "te = np.random.randint(40,size=n)\n",
    "temperaturas = np.concatenate((ti,te),axis=None)\n",
    "\n",
    "save_instance('muchos_angulos', ri ,re ,m ,n ,500, 1, [temperaturas])\n",
    "save_instance('muchos_radios', ri ,re ,n ,m ,500, 1, [temperaturas])"
   ]
  },
  {
   "cell_type": "markdown",
   "metadata": {},
   "source": [
    "### nist = ? , grandes m,n para lu/gauss, ver que con mayor cantidad de instancias lu >> gauss."
   ]
  },
  {
   "cell_type": "code",
   "execution_count": 27,
   "metadata": {},
   "outputs": [],
   "source": [
    "\n",
    "ri=10\n",
    "re=1000\n",
    "nist=50\n",
    "m=150\n",
    "n=150\n",
    "res=[]\n",
    "for i in range(nist):\n",
    "    ti=np.array([1500]*n)\n",
    "    te=[]\n",
    "\n",
    "    te = np.random.randint(40,size=n)\n",
    "    temperaturas = np.concatenate((ti,te),axis=None)\n",
    "    res.append(temperaturas)\n",
    "\n",
    "save_instance('muchos_nist', ri ,re ,m ,n ,500, nist, res)"
   ]
  },
  {
   "cell_type": "markdown",
   "metadata": {},
   "source": [
    "### con nist=1\n",
    "### vamos agrandando m,n y vemos que gauss es mejor"
   ]
  },
  {
   "cell_type": "code",
   "execution_count": 28,
   "metadata": {},
   "outputs": [],
   "source": [
    "\n",
    "\n",
    "ri=10\n",
    "re=100\n",
    "nist=1\n",
    "m=15\n",
    "n=15\n",
    "\n",
    "ti=np.array([1500]*n)\n",
    "te=[]\n",
    "\n",
    "te = np.random.randint(40,size=n)\n",
    "temperaturas = np.concatenate((ti,te),axis=None)\n",
    "\n",
    "save_instance('g1', ri ,re ,m ,n ,500, 1, [temperaturas])\n"
   ]
  },
  {
   "cell_type": "code",
   "execution_count": 29,
   "metadata": {},
   "outputs": [],
   "source": [
    "\n",
    "\n",
    "ri=10\n",
    "re=100\n",
    "nist=1\n",
    "m=30\n",
    "n=30\n",
    "\n",
    "ti=np.array([1500]*n)\n",
    "te=[]\n",
    "\n",
    "te = np.random.randint(40,size=n)\n",
    "temperaturas = np.concatenate((ti,te),axis=None)\n",
    "\n",
    "save_instance('g2', ri ,re ,m ,n ,500, 1, [temperaturas])"
   ]
  },
  {
   "cell_type": "code",
   "execution_count": 30,
   "metadata": {},
   "outputs": [],
   "source": [
    "\n",
    "ri=10\n",
    "re=100\n",
    "nist=1\n",
    "m=60\n",
    "n=60\n",
    "\n",
    "ti=np.array([1500]*n)\n",
    "te=[]\n",
    "\n",
    "te = np.random.randint(40,size=n)\n",
    "temperaturas = np.concatenate((ti,te),axis=None)\n",
    "\n",
    "save_instance('g3', ri ,re ,m ,n ,500, 1, [temperaturas])"
   ]
  },
  {
   "cell_type": "code",
   "execution_count": 31,
   "metadata": {},
   "outputs": [],
   "source": [
    "\n",
    "ri=10\n",
    "re=100\n",
    "nist=1\n",
    "m=120\n",
    "n=120\n",
    "\n",
    "ti=np.array([1500]*n)\n",
    "te=[]\n",
    "\n",
    "te = np.random.randint(40,size=n)\n",
    "temperaturas = np.concatenate((ti,te),axis=None)\n",
    "\n",
    "save_instance('g4', ri ,re ,m ,n ,500, 1, [temperaturas])"
   ]
  },
  {
   "cell_type": "code",
   "execution_count": null,
   "metadata": {},
   "outputs": [],
   "source": []
  }
 ],
 "metadata": {
  "kernelspec": {
   "display_name": "Python 3 (ipykernel)",
   "language": "python",
   "name": "python3"
  },
  "language_info": {
   "codemirror_mode": {
    "name": "ipython",
    "version": 3
   },
   "file_extension": ".py",
   "mimetype": "text/x-python",
   "name": "python",
   "nbconvert_exporter": "python",
   "pygments_lexer": "ipython3",
   "version": "3.8.10"
  }
 },
 "nbformat": 4,
 "nbformat_minor": 4
}
